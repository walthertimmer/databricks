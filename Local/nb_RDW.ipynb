{
 "cells": [
  {
   "cell_type": "markdown",
   "id": "add64d2b-966c-475f-8bc4-cbb70239552c",
   "metadata": {},
   "source": [
    "# RDW data\n",
    "\n",
    "Alle auto gegevens NL\n",
    "\n",
    "link: \n",
    "- https://opendata.rdw.nl/Voertuigen/Open-Data-RDW-Gekentekende_voertuigen/m9d7-ebf2"
   ]
  },
  {
   "cell_type": "code",
   "execution_count": null,
   "id": "c5d4746f-e305-4288-a2d0-c92b02829e80",
   "metadata": {},
   "outputs": [],
   "source": [
    "https://opendata.rdw.nl/Voertuigen/Open-Data-RDW-Gekentekende_voertuigen/m9d7-ebf2"
   ]
  },
  {
   "cell_type": "code",
   "execution_count": null,
   "id": "4056873f-9be8-4ae5-9998-05ea12952c67",
   "metadata": {},
   "outputs": [],
   "source": []
  }
 ],
 "metadata": {
  "kernelspec": {
   "display_name": "Python 3 (ipykernel)",
   "language": "python",
   "name": "python3"
  },
  "language_info": {
   "codemirror_mode": {
    "name": "ipython",
    "version": 3
   },
   "file_extension": ".py",
   "mimetype": "text/x-python",
   "name": "python",
   "nbconvert_exporter": "python",
   "pygments_lexer": "ipython3",
   "version": "3.12.8"
  }
 },
 "nbformat": 4,
 "nbformat_minor": 5
}
